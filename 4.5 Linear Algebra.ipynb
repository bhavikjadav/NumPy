{
 "cells": [
  {
   "cell_type": "code",
   "execution_count": 1,
   "metadata": {},
   "outputs": [],
   "source": [
    "import numpy as np"
   ]
  },
  {
   "cell_type": "code",
   "execution_count": 2,
   "metadata": {},
   "outputs": [],
   "source": [
    "x = np.array([[1., 2., 3.],[4., 5., 6.]]) # 2X3 matrix"
   ]
  },
  {
   "cell_type": "code",
   "execution_count": 6,
   "metadata": {},
   "outputs": [],
   "source": [
    "y = np.array([[6., 23.], [-1, 7], [8, 9]]) # 3X2 matrix"
   ]
  },
  {
   "cell_type": "code",
   "execution_count": 7,
   "metadata": {},
   "outputs": [
    {
     "data": {
      "text/plain": [
       "array([[1., 2., 3.],\n",
       "       [4., 5., 6.]])"
      ]
     },
     "execution_count": 7,
     "metadata": {},
     "output_type": "execute_result"
    }
   ],
   "source": [
    "x"
   ]
  },
  {
   "cell_type": "code",
   "execution_count": 8,
   "metadata": {},
   "outputs": [
    {
     "data": {
      "text/plain": [
       "array([[ 6., 23.],\n",
       "       [-1.,  7.],\n",
       "       [ 8.,  9.]])"
      ]
     },
     "execution_count": 8,
     "metadata": {},
     "output_type": "execute_result"
    }
   ],
   "source": [
    "y"
   ]
  },
  {
   "cell_type": "code",
   "execution_count": 9,
   "metadata": {},
   "outputs": [
    {
     "data": {
      "text/plain": [
       "array([[ 28.,  64.],\n",
       "       [ 67., 181.]])"
      ]
     },
     "execution_count": 9,
     "metadata": {},
     "output_type": "execute_result"
    }
   ],
   "source": [
    "x.dot(y) # dot production method 1"
   ]
  },
  {
   "cell_type": "code",
   "execution_count": 10,
   "metadata": {},
   "outputs": [
    {
     "data": {
      "text/plain": [
       "array([[ 28.,  64.],\n",
       "       [ 67., 181.]])"
      ]
     },
     "execution_count": 10,
     "metadata": {},
     "output_type": "execute_result"
    }
   ],
   "source": [
    "np.dot(x, y) # dot production method 2"
   ]
  },
  {
   "cell_type": "code",
   "execution_count": 11,
   "metadata": {},
   "outputs": [
    {
     "data": {
      "text/plain": [
       "array([ 6., 15.])"
      ]
     },
     "execution_count": 11,
     "metadata": {},
     "output_type": "execute_result"
    }
   ],
   "source": [
    "np.dot(x, np.ones(3))"
   ]
  },
  {
   "cell_type": "code",
   "execution_count": 14,
   "metadata": {},
   "outputs": [
    {
     "data": {
      "text/plain": [
       "array([ 6., 15.])"
      ]
     },
     "execution_count": 14,
     "metadata": {},
     "output_type": "execute_result"
    }
   ],
   "source": [
    "x @ np.ones(3) # @ symbol represents a matrix multiplication."
   ]
  },
  {
   "cell_type": "code",
   "execution_count": 15,
   "metadata": {},
   "outputs": [],
   "source": [
    "from numpy.linalg import inv, qr"
   ]
  },
  {
   "cell_type": "code",
   "execution_count": 32,
   "metadata": {},
   "outputs": [],
   "source": [
    "x = np.random.randn(5, 5)"
   ]
  },
  {
   "cell_type": "code",
   "execution_count": 42,
   "metadata": {},
   "outputs": [],
   "source": [
    "mat = x.T.dot(x) # x*x transpose"
   ]
  },
  {
   "cell_type": "code",
   "execution_count": 43,
   "metadata": {},
   "outputs": [
    {
     "data": {
      "text/plain": [
       "array([[ 1.52257963,  0.99438635, -0.7274153 ,  0.58561177, -1.51225828],\n",
       "       [ 0.99438635,  1.94060506, -2.031998  , -0.99857013, -0.65662659],\n",
       "       [-0.7274153 , -2.031998  ,  3.67827913,  2.02314373, -0.12594064],\n",
       "       [ 0.58561177, -0.99857013,  2.02314373,  2.111922  , -1.36068501],\n",
       "       [-1.51225828, -0.65662659, -0.12594064, -1.36068501,  4.12074226]])"
      ]
     },
     "execution_count": 43,
     "metadata": {},
     "output_type": "execute_result"
    }
   ],
   "source": [
    "mat"
   ]
  },
  {
   "cell_type": "code",
   "execution_count": 44,
   "metadata": {},
   "outputs": [
    {
     "data": {
      "text/plain": [
       "array([[ 8.14574761, -5.02732949,  3.12710957, -7.8246183 , -0.29985245],\n",
       "       [-5.02732949,  4.59516864, -1.24382686,  5.10236622,  0.53406742],\n",
       "       [ 3.12710957, -1.24382686,  2.27768681, -3.78610135, -0.23116478],\n",
       "       [-7.8246183 ,  5.10236622, -3.78610135,  9.24967703,  0.88007893],\n",
       "       [-0.29985245,  0.53406742, -0.23116478,  0.88007893,  0.50127515]])"
      ]
     },
     "execution_count": 44,
     "metadata": {},
     "output_type": "execute_result"
    }
   ],
   "source": [
    "inv(mat)"
   ]
  },
  {
   "cell_type": "code",
   "execution_count": 45,
   "metadata": {},
   "outputs": [
    {
     "data": {
      "text/plain": [
       "array([[ 1.00000000e+00,  5.55111512e-16,  1.11022302e-16,\n",
       "        -1.11022302e-15,  0.00000000e+00],\n",
       "       [ 7.49400542e-16,  1.00000000e+00,  8.32667268e-16,\n",
       "         1.22124533e-15,  1.66533454e-16],\n",
       "       [-2.24126273e-15, -6.38378239e-16,  1.00000000e+00,\n",
       "        -2.22044605e-15, -1.52655666e-16],\n",
       "       [ 2.10942375e-15, -6.66133815e-16, -4.99600361e-16,\n",
       "         1.00000000e+00,  0.00000000e+00],\n",
       "       [-1.33226763e-15, -2.22044605e-15,  8.88178420e-16,\n",
       "         1.33226763e-15,  1.00000000e+00]])"
      ]
     },
     "execution_count": 45,
     "metadata": {},
     "output_type": "execute_result"
    }
   ],
   "source": [
    "mat.dot(inv(mat))"
   ]
  },
  {
   "cell_type": "code",
   "execution_count": 46,
   "metadata": {},
   "outputs": [],
   "source": [
    "q, r = qr(mat)"
   ]
  },
  {
   "cell_type": "code",
   "execution_count": 47,
   "metadata": {},
   "outputs": [
    {
     "data": {
      "text/plain": [
       "array([[-0.59877052,  0.10716099,  0.15256017,  0.73817012, -0.2486376 ],\n",
       "       [-0.39105294, -0.46075584, -0.66136527,  0.03553503,  0.44284862],\n",
       "       [ 0.28606375,  0.58878274, -0.69555349,  0.22575616, -0.1916818 ],\n",
       "       [-0.23029801,  0.60889151,  0.19685323, -0.07007997,  0.72976131],\n",
       "       [ 0.59471154, -0.24250072,  0.12952035,  0.63084474,  0.41565727]])"
      ]
     },
     "execution_count": 47,
     "metadata": {},
     "output_type": "execute_result"
    }
   ],
   "source": [
    "q"
   ]
  },
  {
   "cell_type": "code",
   "execution_count": 48,
   "metadata": {},
   "outputs": [
    {
     "data": {
      "text/plain": [
       "array([[-2.54284333, -2.09610421,  1.74157162, -0.67699172,  3.89026043],\n",
       "       [ 0.        , -2.43277948,  4.28642739,  3.32994233, -1.76145474],\n",
       "       [ 0.        ,  0.        , -0.94357108, -0.41794179,  0.55702285],\n",
       "       [ 0.        ,  0.        ,  0.        , -0.15285036,  1.52683637],\n",
       "       [ 0.        ,  0.        ,  0.        ,  0.        ,  0.82919984]])"
      ]
     },
     "execution_count": 48,
     "metadata": {},
     "output_type": "execute_result"
    }
   ],
   "source": [
    "r"
   ]
  }
 ],
 "metadata": {
  "kernelspec": {
   "display_name": "Python 3",
   "language": "python",
   "name": "python3"
  },
  "language_info": {
   "codemirror_mode": {
    "name": "ipython",
    "version": 3
   },
   "file_extension": ".py",
   "mimetype": "text/x-python",
   "name": "python",
   "nbconvert_exporter": "python",
   "pygments_lexer": "ipython3",
   "version": "3.8.5"
  }
 },
 "nbformat": 4,
 "nbformat_minor": 4
}
