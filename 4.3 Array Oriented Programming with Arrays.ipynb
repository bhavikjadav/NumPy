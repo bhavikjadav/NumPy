{
 "cells": [
  {
   "cell_type": "code",
   "execution_count": 1,
   "metadata": {},
   "outputs": [],
   "source": [
    "import numpy as np"
   ]
  },
  {
   "cell_type": "code",
   "execution_count": 20,
   "metadata": {},
   "outputs": [],
   "source": [
    "points = np.arange(-5, 5, 0.01)"
   ]
  },
  {
   "cell_type": "code",
   "execution_count": 21,
   "metadata": {},
   "outputs": [],
   "source": [
    "xs, ys = np.meshgrid(points, points)"
   ]
  },
  {
   "cell_type": "code",
   "execution_count": 22,
   "metadata": {},
   "outputs": [
    {
     "data": {
      "text/plain": [
       "array([[-5.  , -5.  , -5.  , ..., -5.  , -5.  , -5.  ],\n",
       "       [-4.99, -4.99, -4.99, ..., -4.99, -4.99, -4.99],\n",
       "       [-4.98, -4.98, -4.98, ..., -4.98, -4.98, -4.98],\n",
       "       ...,\n",
       "       [ 4.97,  4.97,  4.97, ...,  4.97,  4.97,  4.97],\n",
       "       [ 4.98,  4.98,  4.98, ...,  4.98,  4.98,  4.98],\n",
       "       [ 4.99,  4.99,  4.99, ...,  4.99,  4.99,  4.99]])"
      ]
     },
     "execution_count": 22,
     "metadata": {},
     "output_type": "execute_result"
    }
   ],
   "source": [
    "ys"
   ]
  },
  {
   "cell_type": "code",
   "execution_count": 23,
   "metadata": {},
   "outputs": [],
   "source": [
    "z = np.sqrt(xs ** 2 + ys ** 2)"
   ]
  },
  {
   "cell_type": "code",
   "execution_count": 24,
   "metadata": {},
   "outputs": [
    {
     "data": {
      "text/plain": [
       "array([[7.07106781, 7.06400028, 7.05693985, ..., 7.04988652, 7.05693985,\n",
       "        7.06400028],\n",
       "       [7.06400028, 7.05692568, 7.04985815, ..., 7.04279774, 7.04985815,\n",
       "        7.05692568],\n",
       "       [7.05693985, 7.04985815, 7.04278354, ..., 7.03571603, 7.04278354,\n",
       "        7.04985815],\n",
       "       ...,\n",
       "       [7.04988652, 7.04279774, 7.03571603, ..., 7.0286414 , 7.03571603,\n",
       "        7.04279774],\n",
       "       [7.05693985, 7.04985815, 7.04278354, ..., 7.03571603, 7.04278354,\n",
       "        7.04985815],\n",
       "       [7.06400028, 7.05692568, 7.04985815, ..., 7.04279774, 7.04985815,\n",
       "        7.05692568]])"
      ]
     },
     "execution_count": 24,
     "metadata": {},
     "output_type": "execute_result"
    }
   ],
   "source": [
    "z"
   ]
  },
  {
   "cell_type": "code",
   "execution_count": 25,
   "metadata": {},
   "outputs": [],
   "source": [
    "import matplotlib.pyplot as plt"
   ]
  },
  {
   "cell_type": "code",
   "execution_count": 38,
   "metadata": {},
   "outputs": [
    {
     "data": {
      "text/plain": [
       "<matplotlib.colorbar.Colorbar at 0x23acc6466d0>"
      ]
     },
     "execution_count": 38,
     "metadata": {},
     "output_type": "execute_result"
    },
    {
     "data": {
      "image/png": "[encoded data removed]",
      "text/plain": [
       "<Figure size 432x288 with 2 Axes>"
      ]
     },
     "metadata": {
      "needs_background": "light"
     },
     "output_type": "display_data"
    }
   ],
   "source": [
    "plt.imshow(z, cmap=plt.cm.gray)\n",
    "plt.colorbar()"
   ]
  },
  {
   "cell_type": "markdown",
   "metadata": {},
   "source": [
    "## Expressing Conditional Logic as Array Operations"
   ]
  },
  {
   "cell_type": "code",
   "execution_count": 27,
   "metadata": {},
   "outputs": [],
   "source": [
    "xarr = np.array([1.1, 1.2, 1.3, 1.4, 1.5])"
   ]
  },
  {
   "cell_type": "code",
   "execution_count": 28,
   "metadata": {},
   "outputs": [],
   "source": [
    "yarr = np.array([2.1, 2.2, 2.3, 2.4, 2.5])"
   ]
  },
  {
   "cell_type": "code",
   "execution_count": 29,
   "metadata": {},
   "outputs": [],
   "source": [
    "cond = np.array([True, False, True, True, False])"
   ]
  },
  {
   "cell_type": "code",
   "execution_count": 33,
   "metadata": {},
   "outputs": [],
   "source": [
    "result = [(x if c else y)\n",
    "         for x, y ,c in zip(xarr, yarr, cond)]"
   ]
  },
  {
   "cell_type": "code",
   "execution_count": 34,
   "metadata": {},
   "outputs": [
    {
     "data": {
      "text/plain": [
       "[1.1, 2.2, 1.3, 1.4, 2.5]"
      ]
     },
     "execution_count": 34,
     "metadata": {},
     "output_type": "execute_result"
    }
   ],
   "source": [
    "result"
   ]
  },
  {
   "cell_type": "code",
   "execution_count": 35,
   "metadata": {},
   "outputs": [],
   "source": [
    "result = np.where(cond, xarr, yarr)"
   ]
  },
  {
   "cell_type": "code",
   "execution_count": 36,
   "metadata": {},
   "outputs": [
    {
     "data": {
      "text/plain": [
       "array([1.1, 2.2, 1.3, 1.4, 2.5])"
      ]
     },
     "execution_count": 36,
     "metadata": {},
     "output_type": "execute_result"
    }
   ],
   "source": [
    "result"
   ]
  },
  {
   "cell_type": "code",
   "execution_count": 39,
   "metadata": {},
   "outputs": [],
   "source": [
    "arr = np.random.randn(4, 4)"
   ]
  },
  {
   "cell_type": "code",
   "execution_count": 40,
   "metadata": {},
   "outputs": [
    {
     "data": {
      "text/plain": [
       "array([[ 0.73256711,  0.98257467, -0.85249189,  0.19984351],\n",
       "       [ 0.28598761, -0.23810564, -0.93045552, -0.22814245],\n",
       "       [ 0.79058825, -0.39576863, -0.05575889, -2.32394246],\n",
       "       [ 1.04877148,  1.13064319,  0.95968501,  0.91175587]])"
      ]
     },
     "execution_count": 40,
     "metadata": {},
     "output_type": "execute_result"
    }
   ],
   "source": [
    "arr"
   ]
  },
  {
   "cell_type": "code",
   "execution_count": 41,
   "metadata": {},
   "outputs": [
    {
     "data": {
      "text/plain": [
       "array([[ True,  True, False,  True],\n",
       "       [ True, False, False, False],\n",
       "       [ True, False, False, False],\n",
       "       [ True,  True,  True,  True]])"
      ]
     },
     "execution_count": 41,
     "metadata": {},
     "output_type": "execute_result"
    }
   ],
   "source": [
    "arr > 0"
   ]
  },
  {
   "cell_type": "code",
   "execution_count": 45,
   "metadata": {},
   "outputs": [
    {
     "data": {
      "text/plain": [
       "array([[ 2,  2, -2,  2],\n",
       "       [ 2, -2, -2, -2],\n",
       "       [ 2, -2, -2, -2],\n",
       "       [ 2,  2,  2,  2]])"
      ]
     },
     "execution_count": 45,
     "metadata": {},
     "output_type": "execute_result"
    }
   ],
   "source": [
    "np.where(arr > 0, 2, -2) # where value is True it will put 2 else put -2."
   ]
  },
  {
   "cell_type": "code",
   "execution_count": 47,
   "metadata": {},
   "outputs": [
    {
     "data": {
      "text/plain": [
       "array([[ 2.        ,  2.        , -0.85249189,  2.        ],\n",
       "       [ 2.        , -0.23810564, -0.93045552, -0.22814245],\n",
       "       [ 2.        , -0.39576863, -0.05575889, -2.32394246],\n",
       "       [ 2.        ,  2.        ,  2.        ,  2.        ]])"
      ]
     },
     "execution_count": 47,
     "metadata": {},
     "output_type": "execute_result"
    }
   ],
   "source": [
    "np.where(arr > 0, 2, arr) # where value is True it will put 2 and else as it is values will be there."
   ]
  },
  {
   "cell_type": "markdown",
   "metadata": {},
   "source": [
    "## Mathematical and Statistical Methods"
   ]
  },
  {
   "cell_type": "code",
   "execution_count": 54,
   "metadata": {},
   "outputs": [],
   "source": [
    "arr = np.random.randn(5, 4)"
   ]
  },
  {
   "cell_type": "code",
   "execution_count": 55,
   "metadata": {},
   "outputs": [
    {
     "data": {
      "text/plain": [
       "array([[ 0.5402966 , -0.32555232,  0.56381929, -0.11271176],\n",
       "       [ 0.37473638,  2.359376  ,  1.67527765,  0.24472179],\n",
       "       [-0.91361376, -0.87674779, -0.20030537,  0.81563749],\n",
       "       [-0.67750121, -1.19434168,  2.3235581 ,  0.02661125],\n",
       "       [-0.81838506,  0.21730891, -0.39748957, -0.29906577]])"
      ]
     },
     "execution_count": 55,
     "metadata": {},
     "output_type": "execute_result"
    }
   ],
   "source": [
    "arr"
   ]
  },
  {
   "cell_type": "code",
   "execution_count": 56,
   "metadata": {},
   "outputs": [
    {
     "data": {
      "text/plain": [
       "0.16628145809308265"
      ]
     },
     "execution_count": 56,
     "metadata": {},
     "output_type": "execute_result"
    }
   ],
   "source": [
    "arr.mean()"
   ]
  },
  {
   "cell_type": "code",
   "execution_count": 57,
   "metadata": {},
   "outputs": [
    {
     "data": {
      "text/plain": [
       "0.16628145809308265"
      ]
     },
     "execution_count": 57,
     "metadata": {},
     "output_type": "execute_result"
    }
   ],
   "source": [
    "np.mean(arr)"
   ]
  },
  {
   "cell_type": "code",
   "execution_count": 58,
   "metadata": {},
   "outputs": [
    {
     "data": {
      "text/plain": [
       "3.3256291618616527"
      ]
     },
     "execution_count": 58,
     "metadata": {},
     "output_type": "execute_result"
    }
   ],
   "source": [
    "arr.sum()"
   ]
  },
  {
   "cell_type": "code",
   "execution_count": 59,
   "metadata": {},
   "outputs": [
    {
     "data": {
      "text/plain": [
       "array([ 0.16646295,  1.16352795, -0.29375736,  0.11958161, -0.32440787])"
      ]
     },
     "execution_count": 59,
     "metadata": {},
     "output_type": "execute_result"
    }
   ],
   "source": [
    "arr.mean(axis=1)"
   ]
  },
  {
   "cell_type": "code",
   "execution_count": 60,
   "metadata": {},
   "outputs": [
    {
     "data": {
      "text/plain": [
       "array([-1.49446705,  0.18004312,  3.9648601 ,  0.675193  ])"
      ]
     },
     "execution_count": 60,
     "metadata": {},
     "output_type": "execute_result"
    }
   ],
   "source": [
    "arr.sum(axis=0)"
   ]
  },
  {
   "cell_type": "code",
   "execution_count": 61,
   "metadata": {},
   "outputs": [],
   "source": [
    "arr = np.array([0, 1, 2, 3, 4, 5, 6, 7])"
   ]
  },
  {
   "cell_type": "code",
   "execution_count": 62,
   "metadata": {},
   "outputs": [
    {
     "data": {
      "text/plain": [
       "array([0, 1, 2, 3, 4, 5, 6, 7])"
      ]
     },
     "execution_count": 62,
     "metadata": {},
     "output_type": "execute_result"
    }
   ],
   "source": [
    "arr"
   ]
  },
  {
   "cell_type": "code",
   "execution_count": 64,
   "metadata": {},
   "outputs": [
    {
     "data": {
      "text/plain": [
       "array([ 0,  1,  3,  6, 10, 15, 21, 28], dtype=int32)"
      ]
     },
     "execution_count": 64,
     "metadata": {},
     "output_type": "execute_result"
    }
   ],
   "source": [
    "arr.cumsum()"
   ]
  },
  {
   "cell_type": "code",
   "execution_count": 65,
   "metadata": {},
   "outputs": [],
   "source": [
    "arr = np.array([[0, 1, 2], [3, 4, 5], [6, 7, 8]])"
   ]
  },
  {
   "cell_type": "code",
   "execution_count": 66,
   "metadata": {},
   "outputs": [
    {
     "data": {
      "text/plain": [
       "array([[0, 1, 2],\n",
       "       [3, 4, 5],\n",
       "       [6, 7, 8]])"
      ]
     },
     "execution_count": 66,
     "metadata": {},
     "output_type": "execute_result"
    }
   ],
   "source": [
    "arr"
   ]
  },
  {
   "cell_type": "code",
   "execution_count": 69,
   "metadata": {},
   "outputs": [
    {
     "data": {
      "text/plain": [
       "array([[ 0,  1,  2],\n",
       "       [ 3,  5,  7],\n",
       "       [ 9, 12, 15]], dtype=int32)"
      ]
     },
     "execution_count": 69,
     "metadata": {},
     "output_type": "execute_result"
    }
   ],
   "source": [
    "arr.cumsum(axis=0)"
   ]
  },
  {
   "cell_type": "code",
   "execution_count": 70,
   "metadata": {},
   "outputs": [
    {
     "data": {
      "text/plain": [
       "array([[  0,   0,   0],\n",
       "       [  3,  12,  60],\n",
       "       [  6,  42, 336]], dtype=int32)"
      ]
     },
     "execution_count": 70,
     "metadata": {},
     "output_type": "execute_result"
    }
   ],
   "source": [
    "arr.cumprod(axis=1)"
   ]
  },
  {
   "cell_type": "markdown",
   "metadata": {},
   "source": [
    "## Methods for Boolean Arrrays"
   ]
  },
  {
   "cell_type": "code",
   "execution_count": 1,
   "metadata": {},
   "outputs": [],
   "source": [
    "import numpy as np"
   ]
  },
  {
   "cell_type": "code",
   "execution_count": 9,
   "metadata": {},
   "outputs": [],
   "source": [
    "arr = np.random.randn(100)"
   ]
  },
  {
   "cell_type": "code",
   "execution_count": 10,
   "metadata": {},
   "outputs": [
    {
     "data": {
      "text/plain": [
       "52"
      ]
     },
     "execution_count": 10,
     "metadata": {},
     "output_type": "execute_result"
    }
   ],
   "source": [
    "(arr > 0).sum()"
   ]
  },
  {
   "cell_type": "code",
   "execution_count": 11,
   "metadata": {},
   "outputs": [],
   "source": [
    "bools = np.array([False, False, True, False])"
   ]
  },
  {
   "cell_type": "code",
   "execution_count": 12,
   "metadata": {},
   "outputs": [
    {
     "data": {
      "text/plain": [
       "True"
      ]
     },
     "execution_count": 12,
     "metadata": {},
     "output_type": "execute_result"
    }
   ],
   "source": [
    "bools.any()"
   ]
  },
  {
   "cell_type": "code",
   "execution_count": 13,
   "metadata": {},
   "outputs": [
    {
     "data": {
      "text/plain": [
       "False"
      ]
     },
     "execution_count": 13,
     "metadata": {},
     "output_type": "execute_result"
    }
   ],
   "source": [
    "bools.all()"
   ]
  },
  {
   "cell_type": "markdown",
   "metadata": {},
   "source": [
    "## Sorting"
   ]
  },
  {
   "cell_type": "code",
   "execution_count": 19,
   "metadata": {},
   "outputs": [],
   "source": [
    "arr = np.random.randn(6)"
   ]
  },
  {
   "cell_type": "code",
   "execution_count": 20,
   "metadata": {},
   "outputs": [
    {
     "data": {
      "text/plain": [
       "array([ 0.58657734,  0.2438081 , -0.95167803, -0.23537286,  0.12861162,\n",
       "        0.50748313])"
      ]
     },
     "execution_count": 20,
     "metadata": {},
     "output_type": "execute_result"
    }
   ],
   "source": [
    "arr"
   ]
  },
  {
   "cell_type": "code",
   "execution_count": 24,
   "metadata": {},
   "outputs": [],
   "source": [
    "arr.sort() # it will return the sorted array."
   ]
  },
  {
   "cell_type": "code",
   "execution_count": 25,
   "metadata": {},
   "outputs": [
    {
     "data": {
      "text/plain": [
       "array([-0.95167803, -0.23537286,  0.12861162,  0.2438081 ,  0.50748313,\n",
       "        0.58657734])"
      ]
     },
     "execution_count": 25,
     "metadata": {},
     "output_type": "execute_result"
    }
   ],
   "source": [
    "arr"
   ]
  },
  {
   "cell_type": "code",
   "execution_count": 26,
   "metadata": {},
   "outputs": [],
   "source": [
    "arr = np.random.randn(5, 3)"
   ]
  },
  {
   "cell_type": "code",
   "execution_count": 27,
   "metadata": {},
   "outputs": [
    {
     "data": {
      "text/plain": [
       "array([[ 0.91636168, -1.27128932, -0.42694906],\n",
       "       [ 1.11859743,  0.83907504,  1.08230576],\n",
       "       [-0.57766016, -0.28183917,  0.4657319 ],\n",
       "       [-0.23068924,  1.44973836, -1.18412666],\n",
       "       [-0.61607988, -0.52133117,  2.34400036]])"
      ]
     },
     "execution_count": 27,
     "metadata": {},
     "output_type": "execute_result"
    }
   ],
   "source": [
    "arr"
   ]
  },
  {
   "cell_type": "code",
   "execution_count": 32,
   "metadata": {},
   "outputs": [],
   "source": [
    "arr.sort(1)"
   ]
  },
  {
   "cell_type": "code",
   "execution_count": 33,
   "metadata": {},
   "outputs": [
    {
     "data": {
      "text/plain": [
       "array([[-1.27128932, -0.52133117,  0.4657319 ],\n",
       "       [-1.18412666, -0.42694906,  0.91636168],\n",
       "       [-0.61607988, -0.28183917,  1.11859743],\n",
       "       [-0.57766016, -0.23068924,  1.44973836],\n",
       "       [ 0.83907504,  1.08230576,  2.34400036]])"
      ]
     },
     "execution_count": 33,
     "metadata": {},
     "output_type": "execute_result"
    }
   ],
   "source": [
    "arr"
   ]
  },
  {
   "cell_type": "code",
   "execution_count": 38,
   "metadata": {},
   "outputs": [],
   "source": [
    "large_arr = np.random.randn(1000)"
   ]
  },
  {
   "cell_type": "code",
   "execution_count": 39,
   "metadata": {},
   "outputs": [],
   "source": [
    "large_arr.sort()"
   ]
  },
  {
   "cell_type": "code",
   "execution_count": 40,
   "metadata": {},
   "outputs": [
    {
     "data": {
      "text/plain": [
       "array([-2.75568405e+00, -2.49309968e+00, -2.43328638e+00, -2.40949886e+00,\n",
       "       -2.40522958e+00, -2.33891784e+00, -2.30818571e+00, -2.30295743e+00,\n",
       "       -2.25183094e+00, -2.23108658e+00, -2.22703085e+00, -2.22077713e+00,\n",
       "       -2.20311890e+00, -2.20240641e+00, -2.16971566e+00, -2.16950801e+00,\n",
       "       -2.16419394e+00, -2.15366343e+00, -2.14830535e+00, -2.09295924e+00,\n",
       "       -2.09107107e+00, -2.07067966e+00, -2.04348066e+00, -2.04305050e+00,\n",
       "       -2.02219208e+00, -1.97246723e+00, -1.97213379e+00, -1.96571152e+00,\n",
       "       -1.95275225e+00, -1.94144038e+00, -1.90944564e+00, -1.88922451e+00,\n",
       "       -1.87816988e+00, -1.87091948e+00, -1.85600536e+00, -1.79775727e+00,\n",
       "       -1.78627484e+00, -1.77628207e+00, -1.76516422e+00, -1.75884322e+00,\n",
       "       -1.75804294e+00, -1.75412736e+00, -1.73164925e+00, -1.69656627e+00,\n",
       "       -1.69596985e+00, -1.68868822e+00, -1.68563128e+00, -1.66725562e+00,\n",
       "       -1.66381300e+00, -1.63142611e+00, -1.61862843e+00, -1.61378160e+00,\n",
       "       -1.61341190e+00, -1.61137976e+00, -1.60509160e+00, -1.59846468e+00,\n",
       "       -1.59190185e+00, -1.57386316e+00, -1.57285927e+00, -1.57201378e+00,\n",
       "       -1.55338207e+00, -1.53937020e+00, -1.52765318e+00, -1.51593262e+00,\n",
       "       -1.50661627e+00, -1.50335937e+00, -1.49043218e+00, -1.48173309e+00,\n",
       "       -1.47868951e+00, -1.46891001e+00, -1.46187616e+00, -1.45451096e+00,\n",
       "       -1.44557982e+00, -1.44196864e+00, -1.43684759e+00, -1.42911839e+00,\n",
       "       -1.42367552e+00, -1.40414874e+00, -1.38711277e+00, -1.37193603e+00,\n",
       "       -1.36706100e+00, -1.36587572e+00, -1.35740129e+00, -1.35126043e+00,\n",
       "       -1.34756725e+00, -1.34288273e+00, -1.33929074e+00, -1.30555837e+00,\n",
       "       -1.30252391e+00, -1.29374222e+00, -1.29349894e+00, -1.29025633e+00,\n",
       "       -1.28982086e+00, -1.28663848e+00, -1.28420721e+00, -1.27881460e+00,\n",
       "       -1.27584092e+00, -1.26954026e+00, -1.26804230e+00, -1.25941354e+00,\n",
       "       -1.25895252e+00, -1.25894968e+00, -1.25211997e+00, -1.24935650e+00,\n",
       "       -1.24359075e+00, -1.24151018e+00, -1.24143017e+00, -1.24135580e+00,\n",
       "       -1.24076749e+00, -1.23622834e+00, -1.23537637e+00, -1.23129016e+00,\n",
       "       -1.22910805e+00, -1.22684735e+00, -1.22666676e+00, -1.21821798e+00,\n",
       "       -1.21732000e+00, -1.21682797e+00, -1.21325158e+00, -1.20485077e+00,\n",
       "       -1.20280974e+00, -1.19669047e+00, -1.19501541e+00, -1.19119374e+00,\n",
       "       -1.18847926e+00, -1.18429788e+00, -1.17955472e+00, -1.16961950e+00,\n",
       "       -1.16634592e+00, -1.15779403e+00, -1.14965343e+00, -1.13976994e+00,\n",
       "       -1.13719721e+00, -1.13382666e+00, -1.13097675e+00, -1.12271538e+00,\n",
       "       -1.12094584e+00, -1.11659552e+00, -1.11527370e+00, -1.11199379e+00,\n",
       "       -1.10964755e+00, -1.10836081e+00, -1.10121694e+00, -1.09474632e+00,\n",
       "       -1.08669035e+00, -1.07243984e+00, -1.07198970e+00, -1.07060848e+00,\n",
       "       -1.06766169e+00, -1.06550229e+00, -1.06450983e+00, -1.06263233e+00,\n",
       "       -1.04909208e+00, -1.04835115e+00, -1.03890638e+00, -1.03655339e+00,\n",
       "       -1.03496983e+00, -1.03432703e+00, -1.02600993e+00, -1.02381484e+00,\n",
       "       -1.01548399e+00, -1.00095298e+00, -1.00059558e+00, -9.97478431e-01,\n",
       "       -9.95852639e-01, -9.85885091e-01, -9.79618989e-01, -9.70782012e-01,\n",
       "       -9.64865149e-01, -9.61034346e-01, -9.56248557e-01, -9.54706680e-01,\n",
       "       -9.54587687e-01, -9.53727963e-01, -9.50066141e-01, -9.45712001e-01,\n",
       "       -9.43855415e-01, -9.34721964e-01, -9.34667806e-01, -9.18672830e-01,\n",
       "       -9.11862288e-01, -9.09981889e-01, -9.04168733e-01, -9.04107205e-01,\n",
       "       -9.01467407e-01, -9.00552068e-01, -8.93347703e-01, -8.68694873e-01,\n",
       "       -8.66073140e-01, -8.64256562e-01, -8.60985870e-01, -8.51219320e-01,\n",
       "       -8.50505279e-01, -8.50067529e-01, -8.47019307e-01, -8.44864522e-01,\n",
       "       -8.36669882e-01, -8.33184489e-01, -8.30226430e-01, -8.27369712e-01,\n",
       "       -8.23749595e-01, -8.23648310e-01, -8.22111073e-01, -8.20797064e-01,\n",
       "       -8.12085189e-01, -8.08994277e-01, -8.08695470e-01, -8.07610786e-01,\n",
       "       -8.07552582e-01, -8.04126489e-01, -7.97312940e-01, -7.91972172e-01,\n",
       "       -7.90103196e-01, -7.89608087e-01, -7.88846199e-01, -7.86625889e-01,\n",
       "       -7.71864006e-01, -7.71792457e-01, -7.69082254e-01, -7.67719273e-01,\n",
       "       -7.63342349e-01, -7.63257614e-01, -7.57247849e-01, -7.54795983e-01,\n",
       "       -7.51413701e-01, -7.45754504e-01, -7.43698673e-01, -7.41177614e-01,\n",
       "       -7.41105580e-01, -7.35539385e-01, -7.28637335e-01, -7.26030191e-01,\n",
       "       -7.22207018e-01, -7.22168701e-01, -7.20467878e-01, -7.18563408e-01,\n",
       "       -7.18066828e-01, -7.16981867e-01, -7.16279842e-01, -7.12418551e-01,\n",
       "       -7.09341182e-01, -7.07582038e-01, -7.04431943e-01, -7.01596798e-01,\n",
       "       -7.00007849e-01, -6.84934691e-01, -6.83718380e-01, -6.83534916e-01,\n",
       "       -6.73838897e-01, -6.66099777e-01, -6.64479868e-01, -6.63976541e-01,\n",
       "       -6.63948432e-01, -6.61470622e-01, -6.57984187e-01, -6.38120911e-01,\n",
       "       -6.31865994e-01, -6.29142352e-01, -6.27291498e-01, -6.26426211e-01,\n",
       "       -6.25564949e-01, -6.22781326e-01, -6.22682963e-01, -6.20180204e-01,\n",
       "       -6.18063748e-01, -6.16109799e-01, -6.15753059e-01, -6.15461995e-01,\n",
       "       -6.10978426e-01, -6.07150321e-01, -6.05393120e-01, -6.03221880e-01,\n",
       "       -5.98395655e-01, -5.97890603e-01, -5.97540067e-01, -5.92132205e-01,\n",
       "       -5.91200118e-01, -5.87656465e-01, -5.85923892e-01, -5.85249176e-01,\n",
       "       -5.82479822e-01, -5.80749008e-01, -5.78945490e-01, -5.77994880e-01,\n",
       "       -5.76351373e-01, -5.75921638e-01, -5.64715637e-01, -5.63372169e-01,\n",
       "       -5.62627792e-01, -5.57947729e-01, -5.53437529e-01, -5.50116016e-01,\n",
       "       -5.48054694e-01, -5.35108040e-01, -5.28854816e-01, -5.26445462e-01,\n",
       "       -5.22693028e-01, -5.22413936e-01, -5.22242972e-01, -5.20459707e-01,\n",
       "       -5.12918628e-01, -5.07642022e-01, -5.07581756e-01, -5.06627594e-01,\n",
       "       -5.06165164e-01, -5.04102683e-01, -5.01253576e-01, -4.98183876e-01,\n",
       "       -4.97224774e-01, -4.94037158e-01, -4.93367012e-01, -4.89749691e-01,\n",
       "       -4.87591509e-01, -4.86972901e-01, -4.79706670e-01, -4.78802052e-01,\n",
       "       -4.77275484e-01, -4.76461514e-01, -4.70625018e-01, -4.69854878e-01,\n",
       "       -4.66896638e-01, -4.66845162e-01, -4.63840521e-01, -4.56429543e-01,\n",
       "       -4.56375471e-01, -4.53267467e-01, -4.52038360e-01, -4.49558210e-01,\n",
       "       -4.41911591e-01, -4.34162724e-01, -4.33014648e-01, -4.31884063e-01,\n",
       "       -4.28873372e-01, -4.28576561e-01, -4.26298403e-01, -4.25020269e-01,\n",
       "       -4.23443037e-01, -4.23309958e-01, -4.19637421e-01, -4.18826987e-01,\n",
       "       -4.15953312e-01, -4.10299180e-01, -4.08219333e-01, -4.05455570e-01,\n",
       "       -4.01401832e-01, -4.00275413e-01, -3.96947107e-01, -3.92100213e-01,\n",
       "       -3.90395969e-01, -3.89605957e-01, -3.88034152e-01, -3.85247416e-01,\n",
       "       -3.85096375e-01, -3.84663736e-01, -3.81124447e-01, -3.79301038e-01,\n",
       "       -3.78736838e-01, -3.76071810e-01, -3.72883687e-01, -3.66671972e-01,\n",
       "       -3.62241262e-01, -3.60349537e-01, -3.53733845e-01, -3.51174259e-01,\n",
       "       -3.48854982e-01, -3.48591610e-01, -3.46330949e-01, -3.44449715e-01,\n",
       "       -3.42715889e-01, -3.37018675e-01, -3.35852275e-01, -3.33186876e-01,\n",
       "       -3.29564617e-01, -3.19160757e-01, -3.15503661e-01, -3.13994494e-01,\n",
       "       -3.13811174e-01, -3.13087232e-01, -3.12177125e-01, -3.10576704e-01,\n",
       "       -3.07817645e-01, -3.02169862e-01, -3.01525547e-01, -2.92907918e-01,\n",
       "       -2.89398723e-01, -2.86418713e-01, -2.86122261e-01, -2.85938425e-01,\n",
       "       -2.83273454e-01, -2.77913547e-01, -2.75428279e-01, -2.73949341e-01,\n",
       "       -2.73505924e-01, -2.72390614e-01, -2.66165825e-01, -2.62906493e-01,\n",
       "       -2.61420623e-01, -2.60486237e-01, -2.56189300e-01, -2.45389300e-01,\n",
       "       -2.44820293e-01, -2.43826940e-01, -2.43797198e-01, -2.40997427e-01,\n",
       "       -2.40764598e-01, -2.38764013e-01, -2.37109502e-01, -2.35213516e-01,\n",
       "       -2.34803413e-01, -2.33869582e-01, -2.32495362e-01, -2.31743923e-01,\n",
       "       -2.31052969e-01, -2.29475682e-01, -2.29192140e-01, -2.27208816e-01,\n",
       "       -2.24168730e-01, -2.17873702e-01, -2.16753629e-01, -2.12581487e-01,\n",
       "       -2.11095205e-01, -2.07947781e-01, -2.07225546e-01, -2.04044861e-01,\n",
       "       -1.99794080e-01, -1.92645709e-01, -1.89255778e-01, -1.88945790e-01,\n",
       "       -1.83880213e-01, -1.81178085e-01, -1.79038959e-01, -1.67614776e-01,\n",
       "       -1.67346496e-01, -1.64993556e-01, -1.63680497e-01, -1.62749078e-01,\n",
       "       -1.62692694e-01, -1.60906684e-01, -1.60554645e-01, -1.60142407e-01,\n",
       "       -1.58194234e-01, -1.56643254e-01, -1.56241920e-01, -1.52589853e-01,\n",
       "       -1.38232420e-01, -1.37651015e-01, -1.37050964e-01, -1.36792805e-01,\n",
       "       -1.32838276e-01, -1.30619060e-01, -1.30507253e-01, -1.30171887e-01,\n",
       "       -1.28711998e-01, -1.23785425e-01, -1.20618308e-01, -1.20167425e-01,\n",
       "       -1.16628070e-01, -1.13092910e-01, -1.09265413e-01, -1.06561057e-01,\n",
       "       -1.05486128e-01, -1.05254576e-01, -1.00429838e-01, -9.93516948e-02,\n",
       "       -9.86915114e-02, -9.69772275e-02, -9.66657857e-02, -9.61080513e-02,\n",
       "       -9.09903078e-02, -9.09277903e-02, -9.00770312e-02, -8.75819726e-02,\n",
       "       -8.70599765e-02, -8.60236794e-02, -8.39054613e-02, -8.34119329e-02,\n",
       "       -7.73061230e-02, -7.60459376e-02, -7.33156094e-02, -7.28207845e-02,\n",
       "       -6.71026317e-02, -6.32992449e-02, -6.08782151e-02, -6.05568378e-02,\n",
       "       -5.29477954e-02, -4.71037461e-02, -4.70455503e-02, -4.55301381e-02,\n",
       "       -4.12403397e-02, -3.96962696e-02, -3.79272592e-02, -3.31382084e-02,\n",
       "       -3.15142092e-02, -3.06504272e-02, -3.00818711e-02, -2.94099129e-02,\n",
       "       -2.77802951e-02, -2.76525919e-02, -2.69055856e-02, -2.25383411e-02,\n",
       "       -1.82167868e-02, -1.53697265e-02, -1.50269760e-02, -1.37357982e-02,\n",
       "       -1.22488763e-02, -6.15254839e-03, -5.49830423e-03, -3.04860047e-03,\n",
       "        1.20580129e-03,  1.63860270e-03,  2.74624700e-03,  6.46163748e-03,\n",
       "        7.82980815e-03,  1.18224376e-02,  1.64442999e-02,  1.65603798e-02,\n",
       "        1.75658487e-02,  2.14222216e-02,  2.42919101e-02,  2.99089562e-02,\n",
       "        3.24951666e-02,  3.29786119e-02,  3.50146413e-02,  3.63534471e-02,\n",
       "        3.86439958e-02,  4.16564216e-02,  4.35674559e-02,  4.44263476e-02,\n",
       "        4.49518847e-02,  4.51341992e-02,  4.52821864e-02,  4.59634459e-02,\n",
       "        4.91446483e-02,  4.98627262e-02,  5.38460944e-02,  5.59797051e-02,\n",
       "        5.71064638e-02,  5.71969859e-02,  6.78894154e-02,  7.39639625e-02,\n",
       "        7.60898675e-02,  8.19031967e-02,  8.55401321e-02,  8.57181357e-02,\n",
       "        8.77800312e-02,  8.88266398e-02,  8.89600849e-02,  9.12914576e-02,\n",
       "        9.13160292e-02,  9.68489545e-02,  9.77506277e-02,  1.01486838e-01,\n",
       "        1.01603003e-01,  1.07162106e-01,  1.10794297e-01,  1.12846098e-01,\n",
       "        1.13341387e-01,  1.16783510e-01,  1.17639602e-01,  1.21006918e-01,\n",
       "        1.24231797e-01,  1.24244120e-01,  1.24646612e-01,  1.24825394e-01,\n",
       "        1.26228038e-01,  1.27227251e-01,  1.27771695e-01,  1.28739531e-01,\n",
       "        1.33589418e-01,  1.39345103e-01,  1.39838003e-01,  1.50266265e-01,\n",
       "        1.55929158e-01,  1.56372296e-01,  1.58980825e-01,  1.61564360e-01,\n",
       "        1.64475234e-01,  1.64922733e-01,  1.70950770e-01,  1.75033849e-01,\n",
       "        1.78289637e-01,  1.79634176e-01,  1.80047143e-01,  1.82798768e-01,\n",
       "        1.82920852e-01,  1.89000995e-01,  1.89704599e-01,  1.98941330e-01,\n",
       "        2.06308694e-01,  2.06616395e-01,  2.18599378e-01,  2.19640266e-01,\n",
       "        2.23500985e-01,  2.27641852e-01,  2.29563548e-01,  2.33684759e-01,\n",
       "        2.35192133e-01,  2.35474108e-01,  2.35647411e-01,  2.41290992e-01,\n",
       "        2.43006109e-01,  2.43472635e-01,  2.44965214e-01,  2.45325450e-01,\n",
       "        2.54768372e-01,  2.56260673e-01,  2.59590785e-01,  2.64189328e-01,\n",
       "        2.66087451e-01,  2.67292784e-01,  2.68578394e-01,  2.72123401e-01,\n",
       "        2.72580126e-01,  2.73667153e-01,  2.74216862e-01,  2.75897457e-01,\n",
       "        2.77212873e-01,  2.77303949e-01,  2.82739149e-01,  2.82951122e-01,\n",
       "        2.87356399e-01,  2.89360540e-01,  2.90817981e-01,  2.92259062e-01,\n",
       "        2.94535395e-01,  2.98072976e-01,  2.99015386e-01,  3.06516664e-01,\n",
       "        3.07766372e-01,  3.14942232e-01,  3.15760335e-01,  3.19114688e-01,\n",
       "        3.20600525e-01,  3.22950762e-01,  3.23618194e-01,  3.35991435e-01,\n",
       "        3.41579241e-01,  3.44233819e-01,  3.46373401e-01,  3.58907216e-01,\n",
       "        3.59567575e-01,  3.61331904e-01,  3.62102771e-01,  3.69659354e-01,\n",
       "        3.73910691e-01,  3.74330334e-01,  3.75122764e-01,  3.76442629e-01,\n",
       "        3.78867201e-01,  3.88252495e-01,  3.89307815e-01,  3.90253108e-01,\n",
       "        3.92240351e-01,  3.92436132e-01,  3.92884162e-01,  3.98369984e-01,\n",
       "        3.98657124e-01,  4.02579261e-01,  4.02582910e-01,  4.09519024e-01,\n",
       "        4.12661806e-01,  4.14598082e-01,  4.16421452e-01,  4.18113378e-01,\n",
       "        4.18908241e-01,  4.20284193e-01,  4.22115889e-01,  4.22523081e-01,\n",
       "        4.22683337e-01,  4.22996504e-01,  4.23035464e-01,  4.26543063e-01,\n",
       "        4.29996013e-01,  4.31810950e-01,  4.40795777e-01,  4.43446122e-01,\n",
       "        4.44588675e-01,  4.48166656e-01,  4.49491626e-01,  4.51393975e-01,\n",
       "        4.51681953e-01,  4.64672812e-01,  4.66959618e-01,  4.67387825e-01,\n",
       "        4.68184615e-01,  4.71526488e-01,  4.71658008e-01,  4.73343720e-01,\n",
       "        4.82287645e-01,  4.82776005e-01,  4.86247321e-01,  4.94305152e-01,\n",
       "        4.95475194e-01,  4.96585322e-01,  5.00666035e-01,  5.03527393e-01,\n",
       "        5.08702231e-01,  5.16306930e-01,  5.17402944e-01,  5.22778743e-01,\n",
       "        5.24989713e-01,  5.30408062e-01,  5.31962231e-01,  5.32479868e-01,\n",
       "        5.35978114e-01,  5.36493852e-01,  5.37930172e-01,  5.40113961e-01,\n",
       "        5.42770646e-01,  5.57696811e-01,  5.58745934e-01,  5.58949395e-01,\n",
       "        5.61127884e-01,  5.61858112e-01,  5.76915434e-01,  5.81251237e-01,\n",
       "        5.82894373e-01,  5.83021849e-01,  5.83694736e-01,  5.88531451e-01,\n",
       "        5.93248788e-01,  5.93709582e-01,  5.94616325e-01,  5.95388208e-01,\n",
       "        5.96370532e-01,  5.99375434e-01,  6.00034637e-01,  6.01165615e-01,\n",
       "        6.05376516e-01,  6.06299617e-01,  6.08413074e-01,  6.10445692e-01,\n",
       "        6.10936126e-01,  6.10991821e-01,  6.11671183e-01,  6.17139822e-01,\n",
       "        6.19654404e-01,  6.30282670e-01,  6.30891245e-01,  6.36940412e-01,\n",
       "        6.43788855e-01,  6.46027271e-01,  6.49167263e-01,  6.49388741e-01,\n",
       "        6.50371221e-01,  6.59592930e-01,  6.59828502e-01,  6.61169278e-01,\n",
       "        6.63708089e-01,  6.65762115e-01,  6.66442856e-01,  6.68524731e-01,\n",
       "        6.78153274e-01,  6.79273746e-01,  6.79757538e-01,  6.86220117e-01,\n",
       "        6.91887120e-01,  6.93101400e-01,  6.93686430e-01,  6.94202570e-01,\n",
       "        6.96174505e-01,  6.96795650e-01,  7.05271403e-01,  7.07870626e-01,\n",
       "        7.09837062e-01,  7.11645459e-01,  7.12715069e-01,  7.16434115e-01,\n",
       "        7.17828306e-01,  7.21993898e-01,  7.24192482e-01,  7.26656790e-01,\n",
       "        7.29811139e-01,  7.30754897e-01,  7.38400677e-01,  7.41185953e-01,\n",
       "        7.44198722e-01,  7.47015934e-01,  7.49426623e-01,  7.50067374e-01,\n",
       "        7.54273328e-01,  7.71236594e-01,  7.78873436e-01,  7.79289561e-01,\n",
       "        7.81894033e-01,  7.82697798e-01,  7.88538583e-01,  7.89942578e-01,\n",
       "        7.91073523e-01,  7.99370873e-01,  8.03265666e-01,  8.05523595e-01,\n",
       "        8.11163577e-01,  8.11584392e-01,  8.13140234e-01,  8.13773563e-01,\n",
       "        8.17902881e-01,  8.19886053e-01,  8.21935833e-01,  8.23388963e-01,\n",
       "        8.27347838e-01,  8.37114036e-01,  8.37608561e-01,  8.40616567e-01,\n",
       "        8.41339776e-01,  8.42866299e-01,  8.43768422e-01,  8.47613255e-01,\n",
       "        8.55683733e-01,  8.57859019e-01,  8.65524338e-01,  8.73860736e-01,\n",
       "        8.84161918e-01,  8.85018044e-01,  8.88014701e-01,  8.92967736e-01,\n",
       "        8.99504055e-01,  9.07377633e-01,  9.09905344e-01,  9.10375162e-01,\n",
       "        9.19181969e-01,  9.21466011e-01,  9.25541489e-01,  9.26165081e-01,\n",
       "        9.28941525e-01,  9.32517111e-01,  9.35945445e-01,  9.36384257e-01,\n",
       "        9.37276954e-01,  9.45222521e-01,  9.48130489e-01,  9.48921532e-01,\n",
       "        9.49715824e-01,  9.51095868e-01,  9.56510953e-01,  9.58934986e-01,\n",
       "        9.67483095e-01,  9.69266660e-01,  9.74111907e-01,  9.80988868e-01,\n",
       "        9.82401948e-01,  9.95986290e-01,  1.00743241e+00,  1.00933587e+00,\n",
       "        1.01329913e+00,  1.01675697e+00,  1.01707114e+00,  1.01818989e+00,\n",
       "        1.02111585e+00,  1.02131033e+00,  1.02708130e+00,  1.02873826e+00,\n",
       "        1.03749718e+00,  1.03757443e+00,  1.03826065e+00,  1.03949872e+00,\n",
       "        1.05504891e+00,  1.05709223e+00,  1.06838022e+00,  1.07810171e+00,\n",
       "        1.07999371e+00,  1.09075650e+00,  1.09271308e+00,  1.09444447e+00,\n",
       "        1.09992885e+00,  1.10167321e+00,  1.10892084e+00,  1.11110417e+00,\n",
       "        1.11495047e+00,  1.13623059e+00,  1.13683196e+00,  1.14284275e+00,\n",
       "        1.14657026e+00,  1.15479121e+00,  1.15670308e+00,  1.16416618e+00,\n",
       "        1.16733746e+00,  1.17426544e+00,  1.17851373e+00,  1.18385983e+00,\n",
       "        1.18795607e+00,  1.20812382e+00,  1.20876187e+00,  1.20975388e+00,\n",
       "        1.21119699e+00,  1.21138194e+00,  1.21227058e+00,  1.21265434e+00,\n",
       "        1.22072633e+00,  1.22146035e+00,  1.23505587e+00,  1.23567992e+00,\n",
       "        1.23600192e+00,  1.24019438e+00,  1.24462135e+00,  1.24479448e+00,\n",
       "        1.24507760e+00,  1.24934799e+00,  1.25035228e+00,  1.25156604e+00,\n",
       "        1.25930111e+00,  1.27643011e+00,  1.28247356e+00,  1.29642965e+00,\n",
       "        1.29974616e+00,  1.31678013e+00,  1.32079970e+00,  1.32822855e+00,\n",
       "        1.33646611e+00,  1.34684593e+00,  1.35554431e+00,  1.36274627e+00,\n",
       "        1.38230575e+00,  1.38334180e+00,  1.38375817e+00,  1.38639793e+00,\n",
       "        1.38711921e+00,  1.40977846e+00,  1.41443470e+00,  1.42479561e+00,\n",
       "        1.42678888e+00,  1.43081154e+00,  1.44295363e+00,  1.44508250e+00,\n",
       "        1.45444595e+00,  1.49319948e+00,  1.50282594e+00,  1.51054337e+00,\n",
       "        1.51154810e+00,  1.53162477e+00,  1.54122081e+00,  1.55144370e+00,\n",
       "        1.56757239e+00,  1.59207610e+00,  1.62973760e+00,  1.63838191e+00,\n",
       "        1.64760477e+00,  1.64873377e+00,  1.65355779e+00,  1.66139121e+00,\n",
       "        1.66171954e+00,  1.66260697e+00,  1.66348283e+00,  1.67055704e+00,\n",
       "        1.67458398e+00,  1.68097424e+00,  1.68576193e+00,  1.68772553e+00,\n",
       "        1.71066737e+00,  1.71483773e+00,  1.71950278e+00,  1.72806897e+00,\n",
       "        1.72939020e+00,  1.73369932e+00,  1.74338537e+00,  1.74714556e+00,\n",
       "        1.74742947e+00,  1.75067312e+00,  1.75280206e+00,  1.75709296e+00,\n",
       "        1.76753389e+00,  1.78888132e+00,  1.80824677e+00,  1.81109047e+00,\n",
       "        1.83290541e+00,  1.84348860e+00,  1.84712335e+00,  1.86135994e+00,\n",
       "        1.86381290e+00,  1.87380954e+00,  1.87517511e+00,  1.88032910e+00,\n",
       "        1.93705563e+00,  1.93997404e+00,  1.96694588e+00,  1.97146097e+00,\n",
       "        1.97309007e+00,  1.98602494e+00,  1.98988103e+00,  2.03074526e+00,\n",
       "        2.04253467e+00,  2.07747881e+00,  2.10178796e+00,  2.12591769e+00,\n",
       "        2.14319277e+00,  2.18852013e+00,  2.22471161e+00,  2.34872016e+00,\n",
       "        2.35916881e+00,  2.40295219e+00,  2.43215981e+00,  2.61674433e+00,\n",
       "        2.66233107e+00,  2.66693157e+00,  2.72070629e+00,  2.87401932e+00,\n",
       "        2.90427761e+00,  2.97937808e+00,  2.98649194e+00,  3.01318068e+00])"
      ]
     },
     "execution_count": 40,
     "metadata": {},
     "output_type": "execute_result"
    }
   ],
   "source": [
    "large_arr"
   ]
  },
  {
   "cell_type": "code",
   "execution_count": 43,
   "metadata": {},
   "outputs": [
    {
     "data": {
      "text/plain": [
       "-1.618628430115128"
      ]
     },
     "execution_count": 43,
     "metadata": {},
     "output_type": "execute_result"
    }
   ],
   "source": [
    "large_arr[int(0.05 * len(large_arr))] #5% quantile"
   ]
  },
  {
   "cell_type": "markdown",
   "metadata": {},
   "source": [
    "## Unique and Other Set Logic"
   ]
  },
  {
   "cell_type": "code",
   "execution_count": 56,
   "metadata": {},
   "outputs": [],
   "source": [
    "names = np.array(['bhavik', 'mehul', 'pruthvi', 'pruthvi', 'bhavik', 'bhavik'])"
   ]
  },
  {
   "cell_type": "code",
   "execution_count": 59,
   "metadata": {},
   "outputs": [
    {
     "data": {
      "text/plain": [
       "array(['bhavik', 'mehul', 'pruthvi'], dtype='<U7')"
      ]
     },
     "execution_count": 59,
     "metadata": {},
     "output_type": "execute_result"
    }
   ],
   "source": [
    "np.unique(names)"
   ]
  },
  {
   "cell_type": "code",
   "execution_count": 60,
   "metadata": {},
   "outputs": [],
   "source": [
    "ints = np.array([3, 3, 3, 2, 2, 1, 1, 4, 4])"
   ]
  },
  {
   "cell_type": "code",
   "execution_count": 61,
   "metadata": {},
   "outputs": [
    {
     "data": {
      "text/plain": [
       "array([1, 2, 3, 4])"
      ]
     },
     "execution_count": 61,
     "metadata": {},
     "output_type": "execute_result"
    }
   ],
   "source": [
    "np.unique(ints)"
   ]
  },
  {
   "cell_type": "code",
   "execution_count": 62,
   "metadata": {},
   "outputs": [
    {
     "data": {
      "text/plain": [
       "['bhavik', 'mehul', 'pruthvi']"
      ]
     },
     "execution_count": 62,
     "metadata": {},
     "output_type": "execute_result"
    }
   ],
   "source": [
    "sorted(set(names))"
   ]
  },
  {
   "cell_type": "code",
   "execution_count": 63,
   "metadata": {},
   "outputs": [],
   "source": [
    "values = np.array([6, 0, 0, 3, 2, 5, 6])"
   ]
  },
  {
   "cell_type": "code",
   "execution_count": 66,
   "metadata": {},
   "outputs": [
    {
     "data": {
      "text/plain": [
       "array([False, False, False,  True,  True, False, False])"
      ]
     },
     "execution_count": 66,
     "metadata": {},
     "output_type": "execute_result"
    }
   ],
   "source": [
    "np.in1d(values, [1, 2, 3])"
   ]
  },
  {
   "cell_type": "markdown",
   "metadata": {},
   "source": [
    "## End of 4.3"
   ]
  }
 ],
 "metadata": {
  "kernelspec": {
   "display_name": "Python 3",
   "language": "python",
   "name": "python3"
  },
  "language_info": {
   "codemirror_mode": {
    "name": "ipython",
    "version": 3
   },
   "file_extension": ".py",
   "mimetype": "text/x-python",
   "name": "python",
   "nbconvert_exporter": "python",
   "pygments_lexer": "ipython3",
   "version": "3.8.5"
  }
 },
 "nbformat": 4,
 "nbformat_minor": 4
}
